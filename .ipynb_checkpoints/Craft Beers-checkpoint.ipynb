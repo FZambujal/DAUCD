{
 "cells": [
  {
   "cell_type": "code",
   "execution_count": 2,
   "id": "43a37f6d",
   "metadata": {},
   "outputs": [],
   "source": [
    "import pandas as pd"
   ]
  },
  {
   "cell_type": "code",
   "execution_count": 157,
   "id": "c2d3709b",
   "metadata": {},
   "outputs": [],
   "source": [
    "import numpy as np\n",
    "import seaborn as sns\n",
    "import matplotlib.pyplot as plt"
   ]
  },
  {
   "cell_type": "code",
   "execution_count": 158,
   "id": "6434652d",
   "metadata": {},
   "outputs": [
    {
     "data": {
      "text/html": [
       "<div>\n",
       "<style scoped>\n",
       "    .dataframe tbody tr th:only-of-type {\n",
       "        vertical-align: middle;\n",
       "    }\n",
       "\n",
       "    .dataframe tbody tr th {\n",
       "        vertical-align: top;\n",
       "    }\n",
       "\n",
       "    .dataframe thead th {\n",
       "        text-align: right;\n",
       "    }\n",
       "</style>\n",
       "<table border=\"1\" class=\"dataframe\">\n",
       "  <thead>\n",
       "    <tr style=\"text-align: right;\">\n",
       "      <th></th>\n",
       "      <th>abv</th>\n",
       "      <th>ibu</th>\n",
       "      <th>id</th>\n",
       "      <th>name_x</th>\n",
       "      <th>style</th>\n",
       "      <th>brewery_id</th>\n",
       "      <th>ounces</th>\n",
       "      <th>name_y</th>\n",
       "      <th>city</th>\n",
       "      <th>state</th>\n",
       "    </tr>\n",
       "  </thead>\n",
       "  <tbody>\n",
       "    <tr>\n",
       "      <th>0</th>\n",
       "      <td>0.050</td>\n",
       "      <td>NaN</td>\n",
       "      <td>1436</td>\n",
       "      <td>Pub Beer</td>\n",
       "      <td>American Pale Lager</td>\n",
       "      <td>408</td>\n",
       "      <td>12.0</td>\n",
       "      <td>10 Barrel Brewing Company</td>\n",
       "      <td>Bend</td>\n",
       "      <td>OR</td>\n",
       "    </tr>\n",
       "    <tr>\n",
       "      <th>1</th>\n",
       "      <td>0.066</td>\n",
       "      <td>NaN</td>\n",
       "      <td>2265</td>\n",
       "      <td>Devil's Cup</td>\n",
       "      <td>American Pale Ale (APA)</td>\n",
       "      <td>177</td>\n",
       "      <td>12.0</td>\n",
       "      <td>18th Street Brewery</td>\n",
       "      <td>Gary</td>\n",
       "      <td>IN</td>\n",
       "    </tr>\n",
       "    <tr>\n",
       "      <th>2</th>\n",
       "      <td>0.071</td>\n",
       "      <td>NaN</td>\n",
       "      <td>2264</td>\n",
       "      <td>Rise of the Phoenix</td>\n",
       "      <td>American IPA</td>\n",
       "      <td>177</td>\n",
       "      <td>12.0</td>\n",
       "      <td>18th Street Brewery</td>\n",
       "      <td>Gary</td>\n",
       "      <td>IN</td>\n",
       "    </tr>\n",
       "    <tr>\n",
       "      <th>3</th>\n",
       "      <td>0.090</td>\n",
       "      <td>NaN</td>\n",
       "      <td>2263</td>\n",
       "      <td>Sinister</td>\n",
       "      <td>American Double / Imperial IPA</td>\n",
       "      <td>177</td>\n",
       "      <td>12.0</td>\n",
       "      <td>18th Street Brewery</td>\n",
       "      <td>Gary</td>\n",
       "      <td>IN</td>\n",
       "    </tr>\n",
       "    <tr>\n",
       "      <th>4</th>\n",
       "      <td>0.075</td>\n",
       "      <td>NaN</td>\n",
       "      <td>2262</td>\n",
       "      <td>Sex and Candy</td>\n",
       "      <td>American IPA</td>\n",
       "      <td>177</td>\n",
       "      <td>12.0</td>\n",
       "      <td>18th Street Brewery</td>\n",
       "      <td>Gary</td>\n",
       "      <td>IN</td>\n",
       "    </tr>\n",
       "  </tbody>\n",
       "</table>\n",
       "</div>"
      ],
      "text/plain": [
       "     abv  ibu    id               name_x                           style  \\\n",
       "0  0.050  NaN  1436             Pub Beer             American Pale Lager   \n",
       "1  0.066  NaN  2265          Devil's Cup         American Pale Ale (APA)   \n",
       "2  0.071  NaN  2264  Rise of the Phoenix                    American IPA   \n",
       "3  0.090  NaN  2263             Sinister  American Double / Imperial IPA   \n",
       "4  0.075  NaN  2262        Sex and Candy                    American IPA   \n",
       "\n",
       "   brewery_id  ounces                     name_y  city state  \n",
       "0         408    12.0  10 Barrel Brewing Company  Bend    OR  \n",
       "1         177    12.0        18th Street Brewery  Gary    IN  \n",
       "2         177    12.0        18th Street Brewery  Gary    IN  \n",
       "3         177    12.0        18th Street Brewery  Gary    IN  \n",
       "4         177    12.0        18th Street Brewery  Gary    IN  "
      ]
     },
     "execution_count": 158,
     "metadata": {},
     "output_type": "execute_result"
    }
   ],
   "source": [
    "#Importing both CSV files from Craft Beers Dataset\n",
    "beers = pd.read_csv(\"beers.csv\", index_col=0)\n",
    "brew = pd.read_csv(\"breweries.csv\", index_col=0)\n",
    "\n",
    "#Adding a new column \n",
    "brew['brewery_id'] = brew.index\n",
    "\n",
    "#Merging both dataframes\n",
    "all_beers = beers.merge(brew, on=\"brewery_id\")\n",
    "all_beers.head()"
   ]
  },
  {
   "cell_type": "code",
   "execution_count": 159,
   "id": "2d995d6c",
   "metadata": {},
   "outputs": [
    {
     "data": {
      "text/html": [
       "<div>\n",
       "<style scoped>\n",
       "    .dataframe tbody tr th:only-of-type {\n",
       "        vertical-align: middle;\n",
       "    }\n",
       "\n",
       "    .dataframe tbody tr th {\n",
       "        vertical-align: top;\n",
       "    }\n",
       "\n",
       "    .dataframe thead th {\n",
       "        text-align: right;\n",
       "    }\n",
       "</style>\n",
       "<table border=\"1\" class=\"dataframe\">\n",
       "  <thead>\n",
       "    <tr style=\"text-align: right;\">\n",
       "      <th></th>\n",
       "      <th>abv</th>\n",
       "      <th>ibu</th>\n",
       "      <th>id</th>\n",
       "      <th>beer_name</th>\n",
       "      <th>style</th>\n",
       "      <th>brewery_id</th>\n",
       "      <th>ounces</th>\n",
       "      <th>brewery_name</th>\n",
       "      <th>city</th>\n",
       "      <th>state</th>\n",
       "    </tr>\n",
       "  </thead>\n",
       "  <tbody>\n",
       "    <tr>\n",
       "      <th>0</th>\n",
       "      <td>5.0</td>\n",
       "      <td>NaN</td>\n",
       "      <td>1436</td>\n",
       "      <td>Pub Beer</td>\n",
       "      <td>American Pale Lager</td>\n",
       "      <td>408</td>\n",
       "      <td>12.0</td>\n",
       "      <td>10 Barrel Brewing Company</td>\n",
       "      <td>Bend</td>\n",
       "      <td>OR</td>\n",
       "    </tr>\n",
       "    <tr>\n",
       "      <th>1</th>\n",
       "      <td>6.6</td>\n",
       "      <td>NaN</td>\n",
       "      <td>2265</td>\n",
       "      <td>Devil's Cup</td>\n",
       "      <td>American Pale Ale (APA)</td>\n",
       "      <td>177</td>\n",
       "      <td>12.0</td>\n",
       "      <td>18th Street Brewery</td>\n",
       "      <td>Gary</td>\n",
       "      <td>IN</td>\n",
       "    </tr>\n",
       "    <tr>\n",
       "      <th>2</th>\n",
       "      <td>7.1</td>\n",
       "      <td>NaN</td>\n",
       "      <td>2264</td>\n",
       "      <td>Rise of the Phoenix</td>\n",
       "      <td>American IPA</td>\n",
       "      <td>177</td>\n",
       "      <td>12.0</td>\n",
       "      <td>18th Street Brewery</td>\n",
       "      <td>Gary</td>\n",
       "      <td>IN</td>\n",
       "    </tr>\n",
       "    <tr>\n",
       "      <th>3</th>\n",
       "      <td>9.0</td>\n",
       "      <td>NaN</td>\n",
       "      <td>2263</td>\n",
       "      <td>Sinister</td>\n",
       "      <td>American Double / Imperial IPA</td>\n",
       "      <td>177</td>\n",
       "      <td>12.0</td>\n",
       "      <td>18th Street Brewery</td>\n",
       "      <td>Gary</td>\n",
       "      <td>IN</td>\n",
       "    </tr>\n",
       "    <tr>\n",
       "      <th>4</th>\n",
       "      <td>7.5</td>\n",
       "      <td>NaN</td>\n",
       "      <td>2262</td>\n",
       "      <td>Sex and Candy</td>\n",
       "      <td>American IPA</td>\n",
       "      <td>177</td>\n",
       "      <td>12.0</td>\n",
       "      <td>18th Street Brewery</td>\n",
       "      <td>Gary</td>\n",
       "      <td>IN</td>\n",
       "    </tr>\n",
       "  </tbody>\n",
       "</table>\n",
       "</div>"
      ],
      "text/plain": [
       "   abv  ibu    id            beer_name                           style  \\\n",
       "0  5.0  NaN  1436             Pub Beer             American Pale Lager   \n",
       "1  6.6  NaN  2265          Devil's Cup         American Pale Ale (APA)   \n",
       "2  7.1  NaN  2264  Rise of the Phoenix                    American IPA   \n",
       "3  9.0  NaN  2263             Sinister  American Double / Imperial IPA   \n",
       "4  7.5  NaN  2262        Sex and Candy                    American IPA   \n",
       "\n",
       "   brewery_id  ounces               brewery_name  city state  \n",
       "0         408    12.0  10 Barrel Brewing Company  Bend    OR  \n",
       "1         177    12.0        18th Street Brewery  Gary    IN  \n",
       "2         177    12.0        18th Street Brewery  Gary    IN  \n",
       "3         177    12.0        18th Street Brewery  Gary    IN  \n",
       "4         177    12.0        18th Street Brewery  Gary    IN  "
      ]
     },
     "execution_count": 159,
     "metadata": {},
     "output_type": "execute_result"
    }
   ],
   "source": [
    "#Renaming columns to make data more readable\n",
    "\n",
    "all_beers = all_beers.rename(index=str, columns={\"name_x\":\"beer_name\", \"name_y\":\"brewery_name\"})\n",
    "\n",
    "\n",
    "# Make ABV a percentage for readability in the plots\n",
    "\n",
    "all_beers['abv'] = all_beers['abv']*100\n",
    "all_beers.head()"
   ]
  },
  {
   "cell_type": "code",
   "execution_count": 160,
   "id": "7e9629c1",
   "metadata": {},
   "outputs": [
    {
     "data": {
      "text/plain": [
       "<bound method DataFrame.info of       abv   ibu    id             beer_name                           style  \\\n",
       "0     5.0   NaN  1436              Pub Beer             American Pale Lager   \n",
       "1     6.6   NaN  2265           Devil's Cup         American Pale Ale (APA)   \n",
       "2     7.1   NaN  2264   Rise of the Phoenix                    American IPA   \n",
       "3     9.0   NaN  2263              Sinister  American Double / Imperial IPA   \n",
       "4     7.5   NaN  2262         Sex and Candy                    American IPA   \n",
       "...   ...   ...   ...                   ...                             ...   \n",
       "2405  6.7  45.0   928             Belgorado                     Belgian IPA   \n",
       "2406  5.2   NaN   807         Rail Yard Ale        American Amber / Red Ale   \n",
       "2407  5.5   NaN   620       B3K Black Lager                     Schwarzbier   \n",
       "2408  5.5  40.0   145   Silverback Pale Ale         American Pale Ale (APA)   \n",
       "2409  5.2   NaN    84  Rail Yard Ale (2009)        American Amber / Red Ale   \n",
       "\n",
       "      brewery_id  ounces               brewery_name    city state  \n",
       "0            408    12.0  10 Barrel Brewing Company    Bend    OR  \n",
       "1            177    12.0        18th Street Brewery    Gary    IN  \n",
       "2            177    12.0        18th Street Brewery    Gary    IN  \n",
       "3            177    12.0        18th Street Brewery    Gary    IN  \n",
       "4            177    12.0        18th Street Brewery    Gary    IN  \n",
       "...          ...     ...                        ...     ...   ...  \n",
       "2405         424    12.0    Wynkoop Brewing Company  Denver    CO  \n",
       "2406         424    12.0    Wynkoop Brewing Company  Denver    CO  \n",
       "2407         424    12.0    Wynkoop Brewing Company  Denver    CO  \n",
       "2408         424    12.0    Wynkoop Brewing Company  Denver    CO  \n",
       "2409         424    12.0    Wynkoop Brewing Company  Denver    CO  \n",
       "\n",
       "[2410 rows x 10 columns]>"
      ]
     },
     "execution_count": 160,
     "metadata": {},
     "output_type": "execute_result"
    }
   ],
   "source": [
    "all_beers.info"
   ]
  },
  {
   "cell_type": "code",
   "execution_count": 161,
   "id": "2d9a1b3c",
   "metadata": {},
   "outputs": [
    {
     "data": {
      "text/plain": [
       "abv               62\n",
       "ibu             1005\n",
       "id                 0\n",
       "beer_name          0\n",
       "style              5\n",
       "brewery_id         0\n",
       "ounces             0\n",
       "brewery_name       0\n",
       "city               0\n",
       "state              0\n",
       "dtype: int64"
      ]
     },
     "execution_count": 161,
     "metadata": {},
     "output_type": "execute_result"
    }
   ],
   "source": [
    "#data cleaning\n",
    "all_beers.isna().sum()"
   ]
  },
  {
   "cell_type": "code",
   "execution_count": 162,
   "id": "4df385d3",
   "metadata": {
    "scrolled": true
   },
   "outputs": [
    {
     "data": {
      "text/html": [
       "<div>\n",
       "<style scoped>\n",
       "    .dataframe tbody tr th:only-of-type {\n",
       "        vertical-align: middle;\n",
       "    }\n",
       "\n",
       "    .dataframe tbody tr th {\n",
       "        vertical-align: top;\n",
       "    }\n",
       "\n",
       "    .dataframe thead th {\n",
       "        text-align: right;\n",
       "    }\n",
       "</style>\n",
       "<table border=\"1\" class=\"dataframe\">\n",
       "  <thead>\n",
       "    <tr style=\"text-align: right;\">\n",
       "      <th></th>\n",
       "      <th>abv</th>\n",
       "      <th>id</th>\n",
       "      <th>beer_name</th>\n",
       "      <th>style</th>\n",
       "      <th>brewery_id</th>\n",
       "      <th>ounces</th>\n",
       "      <th>brewery_name</th>\n",
       "      <th>city</th>\n",
       "      <th>state</th>\n",
       "    </tr>\n",
       "  </thead>\n",
       "  <tbody>\n",
       "    <tr>\n",
       "      <th>0</th>\n",
       "      <td>5.0</td>\n",
       "      <td>1436</td>\n",
       "      <td>Pub Beer</td>\n",
       "      <td>American Pale Lager</td>\n",
       "      <td>408</td>\n",
       "      <td>12.0</td>\n",
       "      <td>10 Barrel Brewing Company</td>\n",
       "      <td>Bend</td>\n",
       "      <td>OR</td>\n",
       "    </tr>\n",
       "    <tr>\n",
       "      <th>1</th>\n",
       "      <td>6.6</td>\n",
       "      <td>2265</td>\n",
       "      <td>Devil's Cup</td>\n",
       "      <td>American Pale Ale (APA)</td>\n",
       "      <td>177</td>\n",
       "      <td>12.0</td>\n",
       "      <td>18th Street Brewery</td>\n",
       "      <td>Gary</td>\n",
       "      <td>IN</td>\n",
       "    </tr>\n",
       "    <tr>\n",
       "      <th>2</th>\n",
       "      <td>7.1</td>\n",
       "      <td>2264</td>\n",
       "      <td>Rise of the Phoenix</td>\n",
       "      <td>American IPA</td>\n",
       "      <td>177</td>\n",
       "      <td>12.0</td>\n",
       "      <td>18th Street Brewery</td>\n",
       "      <td>Gary</td>\n",
       "      <td>IN</td>\n",
       "    </tr>\n",
       "    <tr>\n",
       "      <th>3</th>\n",
       "      <td>9.0</td>\n",
       "      <td>2263</td>\n",
       "      <td>Sinister</td>\n",
       "      <td>American Double / Imperial IPA</td>\n",
       "      <td>177</td>\n",
       "      <td>12.0</td>\n",
       "      <td>18th Street Brewery</td>\n",
       "      <td>Gary</td>\n",
       "      <td>IN</td>\n",
       "    </tr>\n",
       "    <tr>\n",
       "      <th>4</th>\n",
       "      <td>7.5</td>\n",
       "      <td>2262</td>\n",
       "      <td>Sex and Candy</td>\n",
       "      <td>American IPA</td>\n",
       "      <td>177</td>\n",
       "      <td>12.0</td>\n",
       "      <td>18th Street Brewery</td>\n",
       "      <td>Gary</td>\n",
       "      <td>IN</td>\n",
       "    </tr>\n",
       "    <tr>\n",
       "      <th>...</th>\n",
       "      <td>...</td>\n",
       "      <td>...</td>\n",
       "      <td>...</td>\n",
       "      <td>...</td>\n",
       "      <td>...</td>\n",
       "      <td>...</td>\n",
       "      <td>...</td>\n",
       "      <td>...</td>\n",
       "      <td>...</td>\n",
       "    </tr>\n",
       "    <tr>\n",
       "      <th>2405</th>\n",
       "      <td>6.7</td>\n",
       "      <td>928</td>\n",
       "      <td>Belgorado</td>\n",
       "      <td>Belgian IPA</td>\n",
       "      <td>424</td>\n",
       "      <td>12.0</td>\n",
       "      <td>Wynkoop Brewing Company</td>\n",
       "      <td>Denver</td>\n",
       "      <td>CO</td>\n",
       "    </tr>\n",
       "    <tr>\n",
       "      <th>2406</th>\n",
       "      <td>5.2</td>\n",
       "      <td>807</td>\n",
       "      <td>Rail Yard Ale</td>\n",
       "      <td>American Amber / Red Ale</td>\n",
       "      <td>424</td>\n",
       "      <td>12.0</td>\n",
       "      <td>Wynkoop Brewing Company</td>\n",
       "      <td>Denver</td>\n",
       "      <td>CO</td>\n",
       "    </tr>\n",
       "    <tr>\n",
       "      <th>2407</th>\n",
       "      <td>5.5</td>\n",
       "      <td>620</td>\n",
       "      <td>B3K Black Lager</td>\n",
       "      <td>Schwarzbier</td>\n",
       "      <td>424</td>\n",
       "      <td>12.0</td>\n",
       "      <td>Wynkoop Brewing Company</td>\n",
       "      <td>Denver</td>\n",
       "      <td>CO</td>\n",
       "    </tr>\n",
       "    <tr>\n",
       "      <th>2408</th>\n",
       "      <td>5.5</td>\n",
       "      <td>145</td>\n",
       "      <td>Silverback Pale Ale</td>\n",
       "      <td>American Pale Ale (APA)</td>\n",
       "      <td>424</td>\n",
       "      <td>12.0</td>\n",
       "      <td>Wynkoop Brewing Company</td>\n",
       "      <td>Denver</td>\n",
       "      <td>CO</td>\n",
       "    </tr>\n",
       "    <tr>\n",
       "      <th>2409</th>\n",
       "      <td>5.2</td>\n",
       "      <td>84</td>\n",
       "      <td>Rail Yard Ale (2009)</td>\n",
       "      <td>American Amber / Red Ale</td>\n",
       "      <td>424</td>\n",
       "      <td>12.0</td>\n",
       "      <td>Wynkoop Brewing Company</td>\n",
       "      <td>Denver</td>\n",
       "      <td>CO</td>\n",
       "    </tr>\n",
       "  </tbody>\n",
       "</table>\n",
       "<p>2410 rows × 9 columns</p>\n",
       "</div>"
      ],
      "text/plain": [
       "      abv    id             beer_name                           style  \\\n",
       "0     5.0  1436              Pub Beer             American Pale Lager   \n",
       "1     6.6  2265           Devil's Cup         American Pale Ale (APA)   \n",
       "2     7.1  2264   Rise of the Phoenix                    American IPA   \n",
       "3     9.0  2263              Sinister  American Double / Imperial IPA   \n",
       "4     7.5  2262         Sex and Candy                    American IPA   \n",
       "...   ...   ...                   ...                             ...   \n",
       "2405  6.7   928             Belgorado                     Belgian IPA   \n",
       "2406  5.2   807         Rail Yard Ale        American Amber / Red Ale   \n",
       "2407  5.5   620       B3K Black Lager                     Schwarzbier   \n",
       "2408  5.5   145   Silverback Pale Ale         American Pale Ale (APA)   \n",
       "2409  5.2    84  Rail Yard Ale (2009)        American Amber / Red Ale   \n",
       "\n",
       "      brewery_id  ounces               brewery_name    city state  \n",
       "0            408    12.0  10 Barrel Brewing Company    Bend    OR  \n",
       "1            177    12.0        18th Street Brewery    Gary    IN  \n",
       "2            177    12.0        18th Street Brewery    Gary    IN  \n",
       "3            177    12.0        18th Street Brewery    Gary    IN  \n",
       "4            177    12.0        18th Street Brewery    Gary    IN  \n",
       "...          ...     ...                        ...     ...   ...  \n",
       "2405         424    12.0    Wynkoop Brewing Company  Denver    CO  \n",
       "2406         424    12.0    Wynkoop Brewing Company  Denver    CO  \n",
       "2407         424    12.0    Wynkoop Brewing Company  Denver    CO  \n",
       "2408         424    12.0    Wynkoop Brewing Company  Denver    CO  \n",
       "2409         424    12.0    Wynkoop Brewing Company  Denver    CO  \n",
       "\n",
       "[2410 rows x 9 columns]"
      ]
     },
     "execution_count": 162,
     "metadata": {},
     "output_type": "execute_result"
    }
   ],
   "source": [
    "#Dropping \"ibu\" columns since the amount of missing values represent 40% of the total results\n",
    "all_beers.drop(columns=[\"ibu\"])"
   ]
  },
  {
   "cell_type": "code",
   "execution_count": 163,
   "id": "1e284e67",
   "metadata": {},
   "outputs": [],
   "source": [
    "#fill empty cells for abv\n",
    "all_beers[\"abv\"].fillna( method ='ffill', inplace = True)"
   ]
  },
  {
   "cell_type": "code",
   "execution_count": 164,
   "id": "9aeeddac",
   "metadata": {},
   "outputs": [
    {
     "data": {
      "text/plain": [
       "abv                0\n",
       "ibu             1005\n",
       "id                 0\n",
       "beer_name          0\n",
       "style              5\n",
       "brewery_id         0\n",
       "ounces             0\n",
       "brewery_name       0\n",
       "city               0\n",
       "state              0\n",
       "dtype: int64"
      ]
     },
     "execution_count": 164,
     "metadata": {},
     "output_type": "execute_result"
    }
   ],
   "source": [
    "all_beers.isna().sum()"
   ]
  },
  {
   "cell_type": "code",
   "execution_count": 168,
   "id": "238531a4",
   "metadata": {},
   "outputs": [
    {
     "data": {
      "text/plain": [
       "American IPA                      424\n",
       "American Pale Ale (APA)           245\n",
       "American Amber / Red Ale          133\n",
       "American Blonde Ale               108\n",
       "American Double / Imperial IPA    105\n",
       "                                 ... \n",
       "American Malt Liquor                1\n",
       "Wheat Ale                           1\n",
       "Flanders Red Ale                    1\n",
       "Kristalweizen                       1\n",
       "Low Alcohol Beer                    1\n",
       "Name: style, Length: 99, dtype: int64"
      ]
     },
     "execution_count": 168,
     "metadata": {},
     "output_type": "execute_result"
    }
   ],
   "source": [
    "#How many different beers per unique style?\n",
    "styles = all_beers[\"style\"].value_counts()\n",
    "styles"
   ]
  },
  {
   "cell_type": "code",
   "execution_count": 170,
   "id": "a977d2f4",
   "metadata": {},
   "outputs": [
    {
     "data": {
      "text/plain": [
       "99"
      ]
     },
     "execution_count": 170,
     "metadata": {},
     "output_type": "execute_result"
    }
   ],
   "source": [
    "all_beers['style'].nunique()"
   ]
  },
  {
   "cell_type": "code",
   "execution_count": 182,
   "id": "9cc3b268",
   "metadata": {},
   "outputs": [
    {
     "name": "stderr",
     "output_type": "stream",
     "text": [
      "/Users/filipa_zambujal/opt/anaconda3/lib/python3.9/site-packages/seaborn/_decorators.py:36: FutureWarning: Pass the following variables as keyword args: x, y. From version 0.12, the only valid positional argument will be `data`, and passing other arguments without an explicit keyword will result in an error or misinterpretation.\n",
      "  warnings.warn(\n"
     ]
    },
    {
     "data": {
      "image/png": "[encoded data removed]",
      "text/plain": [
       "<Figure size 720x432 with 1 Axes>"
      ]
     },
     "metadata": {
      "needs_background": "light"
     },
     "output_type": "display_data"
    }
   ],
   "source": [
    "top_styles = styles[styles > 20]\n",
    "\n",
    "plt.figure(figsize=(10,6))\n",
    "plt.title('No. different beer per style')\n",
    "g=sns.barplot(top_styles.index, top_styles, palette='Set2')\n",
    "g.bar_label(g.containers[0], fmt='%.0f', fontsize=12)\n",
    "plt.xticks(rotation=90)\n",
    "plt.yticks([])\n",
    "plt.ylabel('No. Beers')\n",
    "plt.show()"
   ]
  },
  {
   "cell_type": "code",
   "execution_count": 167,
   "id": "605adde5",
   "metadata": {},
   "outputs": [
    {
     "data": {
      "text/html": [
       "<div>\n",
       "<style scoped>\n",
       "    .dataframe tbody tr th:only-of-type {\n",
       "        vertical-align: middle;\n",
       "    }\n",
       "\n",
       "    .dataframe tbody tr th {\n",
       "        vertical-align: top;\n",
       "    }\n",
       "\n",
       "    .dataframe thead th {\n",
       "        text-align: right;\n",
       "    }\n",
       "</style>\n",
       "<table border=\"1\" class=\"dataframe\">\n",
       "  <thead>\n",
       "    <tr style=\"text-align: right;\">\n",
       "      <th></th>\n",
       "      <th>abv</th>\n",
       "      <th>ibu</th>\n",
       "      <th>id</th>\n",
       "      <th>beer_name</th>\n",
       "      <th>style</th>\n",
       "      <th>brewery_id</th>\n",
       "      <th>ounces</th>\n",
       "      <th>brewery_name</th>\n",
       "      <th>city</th>\n",
       "      <th>state</th>\n",
       "    </tr>\n",
       "  </thead>\n",
       "  <tbody>\n",
       "    <tr>\n",
       "      <th>2266</th>\n",
       "      <td>0.1</td>\n",
       "      <td>NaN</td>\n",
       "      <td>606</td>\n",
       "      <td>Scotty K NA</td>\n",
       "      <td>Low Alcohol Beer</td>\n",
       "      <td>522</td>\n",
       "      <td>16.0</td>\n",
       "      <td>Uncommon Brewers</td>\n",
       "      <td>Santa Cruz</td>\n",
       "      <td>CA</td>\n",
       "    </tr>\n",
       "  </tbody>\n",
       "</table>\n",
       "</div>"
      ],
      "text/plain": [
       "      abv  ibu   id    beer_name             style  brewery_id  ounces  \\\n",
       "2266  0.1  NaN  606  Scotty K NA  Low Alcohol Beer         522    16.0   \n",
       "\n",
       "          brewery_name        city state  \n",
       "2266  Uncommon Brewers  Santa Cruz    CA  "
      ]
     },
     "execution_count": 167,
     "metadata": {},
     "output_type": "execute_result"
    }
   ],
   "source": [
    "#How many zero alcohol craft beers are?\n",
    "all_zero = all_beers.loc[all_beers['abv'] < 0.5]\n",
    "all_zero"
   ]
  },
  {
   "cell_type": "code",
   "execution_count": 181,
   "id": "1dd0da71",
   "metadata": {},
   "outputs": [
    {
     "data": {
      "image/png": "[encoded data removed]",
      "text/plain": [
       "<Figure size 432x288 with 1 Axes>"
      ]
     },
     "metadata": {
      "needs_background": "light"
     },
     "output_type": "display_data"
    }
   ],
   "source": [
    "#plt.figure(figsize=(10,10))\n",
    "topbeers = all_beers[all_beers['style'].isin(['American IPA','American Pale Ale (APA)', 'American Amber / Red Ale','American Double / Imperial IPA', 'American Pale Wheat Ale'])]\n",
    "\n",
    "sns.boxplot(data=topbeers, x='style', y='abv')\n",
    "plt.xticks(rotation=45)\n",
    "plt.title('Boxplot for abv by style')\n",
    "\n",
    "plt.show()\n"
   ]
  },
  {
   "cell_type": "code",
   "execution_count": null,
   "id": "4357cf8d",
   "metadata": {},
   "outputs": [],
   "source": []
  }
 ],
 "metadata": {
  "kernelspec": {
   "display_name": "Python 3 (ipykernel)",
   "language": "python",
   "name": "python3"
  },
  "language_info": {
   "codemirror_mode": {
    "name": "ipython",
    "version": 3
   },
   "file_extension": ".py",
   "mimetype": "text/x-python",
   "name": "python",
   "nbconvert_exporter": "python",
   "pygments_lexer": "ipython3",
   "version": "3.9.7"
  }
 },
 "nbformat": 4,
 "nbformat_minor": 5
}
